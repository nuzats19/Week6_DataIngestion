{
 "cells": [
  {
   "cell_type": "code",
   "execution_count": 42,
   "id": "4e70c43f-6e92-41a7-a0b6-88bd6b237fb0",
   "metadata": {},
   "outputs": [
    {
     "name": "stdout",
     "output_type": "stream",
     "text": [
      "Requirement already satisfied: modin[ray] in /opt/anaconda3/lib/python3.12/site-packages (0.31.0)\n",
      "Requirement already satisfied: pandas<2.3,>=2.2 in /opt/anaconda3/lib/python3.12/site-packages (from modin[ray]) (2.2.2)\n",
      "Requirement already satisfied: packaging>=21.0 in /opt/anaconda3/lib/python3.12/site-packages (from modin[ray]) (23.2)\n",
      "Requirement already satisfied: numpy>=1.22.4 in /opt/anaconda3/lib/python3.12/site-packages (from modin[ray]) (1.26.4)\n",
      "Requirement already satisfied: fsspec>=2022.11.0 in /opt/anaconda3/lib/python3.12/site-packages (from modin[ray]) (2024.3.1)\n",
      "Requirement already satisfied: psutil>=5.8.0 in /opt/anaconda3/lib/python3.12/site-packages (from modin[ray]) (5.9.0)\n",
      "Requirement already satisfied: ray!=2.5.0,>=2.1.0 in /opt/anaconda3/lib/python3.12/site-packages (from modin[ray]) (2.34.0)\n",
      "Requirement already satisfied: pyarrow>=10.0.1 in /opt/anaconda3/lib/python3.12/site-packages (from modin[ray]) (14.0.2)\n",
      "Requirement already satisfied: python-dateutil>=2.8.2 in /opt/anaconda3/lib/python3.12/site-packages (from pandas<2.3,>=2.2->modin[ray]) (2.9.0.post0)\n",
      "Requirement already satisfied: pytz>=2020.1 in /opt/anaconda3/lib/python3.12/site-packages (from pandas<2.3,>=2.2->modin[ray]) (2024.1)\n",
      "Requirement already satisfied: tzdata>=2022.7 in /opt/anaconda3/lib/python3.12/site-packages (from pandas<2.3,>=2.2->modin[ray]) (2023.3)\n",
      "Requirement already satisfied: click>=7.0 in /opt/anaconda3/lib/python3.12/site-packages (from ray!=2.5.0,>=2.1.0->modin[ray]) (8.1.7)\n",
      "Requirement already satisfied: filelock in /opt/anaconda3/lib/python3.12/site-packages (from ray!=2.5.0,>=2.1.0->modin[ray]) (3.13.1)\n",
      "Requirement already satisfied: jsonschema in /opt/anaconda3/lib/python3.12/site-packages (from ray!=2.5.0,>=2.1.0->modin[ray]) (4.19.2)\n",
      "Requirement already satisfied: msgpack<2.0.0,>=1.0.0 in /opt/anaconda3/lib/python3.12/site-packages (from ray!=2.5.0,>=2.1.0->modin[ray]) (1.0.3)\n",
      "Requirement already satisfied: protobuf!=3.19.5,>=3.15.3 in /opt/anaconda3/lib/python3.12/site-packages (from ray!=2.5.0,>=2.1.0->modin[ray]) (3.20.3)\n",
      "Requirement already satisfied: pyyaml in /opt/anaconda3/lib/python3.12/site-packages (from ray!=2.5.0,>=2.1.0->modin[ray]) (6.0.1)\n",
      "Requirement already satisfied: aiosignal in /opt/anaconda3/lib/python3.12/site-packages (from ray!=2.5.0,>=2.1.0->modin[ray]) (1.2.0)\n",
      "Requirement already satisfied: frozenlist in /opt/anaconda3/lib/python3.12/site-packages (from ray!=2.5.0,>=2.1.0->modin[ray]) (1.4.0)\n",
      "Requirement already satisfied: requests in /opt/anaconda3/lib/python3.12/site-packages (from ray!=2.5.0,>=2.1.0->modin[ray]) (2.32.2)\n",
      "Requirement already satisfied: six>=1.5 in /opt/anaconda3/lib/python3.12/site-packages (from python-dateutil>=2.8.2->pandas<2.3,>=2.2->modin[ray]) (1.16.0)\n",
      "Requirement already satisfied: attrs>=22.2.0 in /opt/anaconda3/lib/python3.12/site-packages (from jsonschema->ray!=2.5.0,>=2.1.0->modin[ray]) (23.1.0)\n",
      "Requirement already satisfied: jsonschema-specifications>=2023.03.6 in /opt/anaconda3/lib/python3.12/site-packages (from jsonschema->ray!=2.5.0,>=2.1.0->modin[ray]) (2023.7.1)\n",
      "Requirement already satisfied: referencing>=0.28.4 in /opt/anaconda3/lib/python3.12/site-packages (from jsonschema->ray!=2.5.0,>=2.1.0->modin[ray]) (0.30.2)\n",
      "Requirement already satisfied: rpds-py>=0.7.1 in /opt/anaconda3/lib/python3.12/site-packages (from jsonschema->ray!=2.5.0,>=2.1.0->modin[ray]) (0.10.6)\n",
      "Requirement already satisfied: charset-normalizer<4,>=2 in /opt/anaconda3/lib/python3.12/site-packages (from requests->ray!=2.5.0,>=2.1.0->modin[ray]) (2.0.4)\n",
      "Requirement already satisfied: idna<4,>=2.5 in /opt/anaconda3/lib/python3.12/site-packages (from requests->ray!=2.5.0,>=2.1.0->modin[ray]) (3.7)\n",
      "Requirement already satisfied: urllib3<3,>=1.21.1 in /opt/anaconda3/lib/python3.12/site-packages (from requests->ray!=2.5.0,>=2.1.0->modin[ray]) (2.2.2)\n",
      "Requirement already satisfied: certifi>=2017.4.17 in /opt/anaconda3/lib/python3.12/site-packages (from requests->ray!=2.5.0,>=2.1.0->modin[ray]) (2024.7.4)\n"
     ]
    }
   ],
   "source": [
    "!pip install \"modin[ray]\"\n"
   ]
  },
  {
   "cell_type": "code",
   "execution_count": 43,
   "id": "6fbc9cb1-f522-4922-b9d6-95c6417de84e",
   "metadata": {},
   "outputs": [
    {
     "name": "stdout",
     "output_type": "stream",
     "text": [
      "Requirement already satisfied: ipywidgets in /opt/anaconda3/lib/python3.12/site-packages (8.1.3)\n",
      "Requirement already satisfied: comm>=0.1.3 in /opt/anaconda3/lib/python3.12/site-packages (from ipywidgets) (0.2.1)\n",
      "Requirement already satisfied: ipython>=6.1.0 in /opt/anaconda3/lib/python3.12/site-packages (from ipywidgets) (8.25.0)\n",
      "Requirement already satisfied: traitlets>=4.3.1 in /opt/anaconda3/lib/python3.12/site-packages (from ipywidgets) (5.14.3)\n",
      "Requirement already satisfied: widgetsnbextension~=4.0.11 in /opt/anaconda3/lib/python3.12/site-packages (from ipywidgets) (4.0.11)\n",
      "Requirement already satisfied: jupyterlab-widgets~=3.0.11 in /opt/anaconda3/lib/python3.12/site-packages (from ipywidgets) (3.0.11)\n",
      "Requirement already satisfied: decorator in /opt/anaconda3/lib/python3.12/site-packages (from ipython>=6.1.0->ipywidgets) (5.1.1)\n",
      "Requirement already satisfied: jedi>=0.16 in /opt/anaconda3/lib/python3.12/site-packages (from ipython>=6.1.0->ipywidgets) (0.18.1)\n",
      "Requirement already satisfied: matplotlib-inline in /opt/anaconda3/lib/python3.12/site-packages (from ipython>=6.1.0->ipywidgets) (0.1.6)\n",
      "Requirement already satisfied: prompt-toolkit<3.1.0,>=3.0.41 in /opt/anaconda3/lib/python3.12/site-packages (from ipython>=6.1.0->ipywidgets) (3.0.43)\n",
      "Requirement already satisfied: pygments>=2.4.0 in /opt/anaconda3/lib/python3.12/site-packages (from ipython>=6.1.0->ipywidgets) (2.15.1)\n",
      "Requirement already satisfied: stack-data in /opt/anaconda3/lib/python3.12/site-packages (from ipython>=6.1.0->ipywidgets) (0.2.0)\n",
      "Requirement already satisfied: pexpect>4.3 in /opt/anaconda3/lib/python3.12/site-packages (from ipython>=6.1.0->ipywidgets) (4.8.0)\n",
      "Requirement already satisfied: parso<0.9.0,>=0.8.0 in /opt/anaconda3/lib/python3.12/site-packages (from jedi>=0.16->ipython>=6.1.0->ipywidgets) (0.8.3)\n",
      "Requirement already satisfied: ptyprocess>=0.5 in /opt/anaconda3/lib/python3.12/site-packages (from pexpect>4.3->ipython>=6.1.0->ipywidgets) (0.7.0)\n",
      "Requirement already satisfied: wcwidth in /opt/anaconda3/lib/python3.12/site-packages (from prompt-toolkit<3.1.0,>=3.0.41->ipython>=6.1.0->ipywidgets) (0.2.5)\n",
      "Requirement already satisfied: executing in /opt/anaconda3/lib/python3.12/site-packages (from stack-data->ipython>=6.1.0->ipywidgets) (0.8.3)\n",
      "Requirement already satisfied: asttokens in /opt/anaconda3/lib/python3.12/site-packages (from stack-data->ipython>=6.1.0->ipywidgets) (2.0.5)\n",
      "Requirement already satisfied: pure-eval in /opt/anaconda3/lib/python3.12/site-packages (from stack-data->ipython>=6.1.0->ipywidgets) (0.2.2)\n",
      "Requirement already satisfied: six in /opt/anaconda3/lib/python3.12/site-packages (from asttokens->stack-data->ipython>=6.1.0->ipywidgets) (1.16.0)\n",
      "Note: you may need to restart the kernel to use updated packages.\n"
     ]
    }
   ],
   "source": [
    "pip install -U ipywidgets"
   ]
  },
  {
   "cell_type": "code",
   "execution_count": 46,
   "id": "7dfb027b-46a7-4847-a5b2-9fd6d208b3b5",
   "metadata": {},
   "outputs": [
    {
     "name": "stdout",
     "output_type": "stream",
     "text": [
      "Requirement already satisfied: dask[dataframe] in /opt/anaconda3/lib/python3.12/site-packages (2024.5.0)\n",
      "Requirement already satisfied: click>=8.1 in /opt/anaconda3/lib/python3.12/site-packages (from dask[dataframe]) (8.1.7)\n",
      "Requirement already satisfied: cloudpickle>=1.5.0 in /opt/anaconda3/lib/python3.12/site-packages (from dask[dataframe]) (2.2.1)\n",
      "Requirement already satisfied: fsspec>=2021.09.0 in /opt/anaconda3/lib/python3.12/site-packages (from dask[dataframe]) (2024.3.1)\n",
      "Requirement already satisfied: packaging>=20.0 in /opt/anaconda3/lib/python3.12/site-packages (from dask[dataframe]) (23.2)\n",
      "Requirement already satisfied: partd>=1.2.0 in /opt/anaconda3/lib/python3.12/site-packages (from dask[dataframe]) (1.4.1)\n",
      "Requirement already satisfied: pyyaml>=5.3.1 in /opt/anaconda3/lib/python3.12/site-packages (from dask[dataframe]) (6.0.1)\n",
      "Requirement already satisfied: toolz>=0.10.0 in /opt/anaconda3/lib/python3.12/site-packages (from dask[dataframe]) (0.12.0)\n",
      "Requirement already satisfied: pandas>=1.3 in /opt/anaconda3/lib/python3.12/site-packages (from dask[dataframe]) (2.2.2)\n",
      "Requirement already satisfied: dask-expr<1.2,>=1.1 in /opt/anaconda3/lib/python3.12/site-packages (from dask[dataframe]) (1.1.0)\n",
      "Requirement already satisfied: pyarrow>=7.0.0 in /opt/anaconda3/lib/python3.12/site-packages (from dask-expr<1.2,>=1.1->dask[dataframe]) (14.0.2)\n",
      "Requirement already satisfied: numpy>=1.26.0 in /opt/anaconda3/lib/python3.12/site-packages (from pandas>=1.3->dask[dataframe]) (1.26.4)\n",
      "Requirement already satisfied: python-dateutil>=2.8.2 in /opt/anaconda3/lib/python3.12/site-packages (from pandas>=1.3->dask[dataframe]) (2.9.0.post0)\n",
      "Requirement already satisfied: pytz>=2020.1 in /opt/anaconda3/lib/python3.12/site-packages (from pandas>=1.3->dask[dataframe]) (2024.1)\n",
      "Requirement already satisfied: tzdata>=2022.7 in /opt/anaconda3/lib/python3.12/site-packages (from pandas>=1.3->dask[dataframe]) (2023.3)\n",
      "Requirement already satisfied: locket in /opt/anaconda3/lib/python3.12/site-packages (from partd>=1.2.0->dask[dataframe]) (1.0.0)\n",
      "Requirement already satisfied: six>=1.5 in /opt/anaconda3/lib/python3.12/site-packages (from python-dateutil>=2.8.2->pandas>=1.3->dask[dataframe]) (1.16.0)\n"
     ]
    }
   ],
   "source": [
    "!pip install \"dask[dataframe]\"\n"
   ]
  },
  {
   "cell_type": "code",
   "execution_count": 104,
   "id": "c4f81110-c22a-4ffc-a5bc-d389e692cfca",
   "metadata": {},
   "outputs": [],
   "source": [
    "import pandas as pd\n",
    "import dask.dataframe as dd\n",
    "import modin.pandas as mpd\n",
    "from ray import init\n",
    "import yaml\n",
    "import os\n",
    "import time"
   ]
  },
  {
   "cell_type": "code",
   "execution_count": 106,
   "id": "0e78f4d2-e2a9-4c2a-8d17-3aebdc73abd0",
   "metadata": {},
   "outputs": [
    {
     "name": "stdout",
     "output_type": "stream",
     "text": [
      "Pandas: 0.060296058654785156 seconds\n"
     ]
    }
   ],
   "source": [
    "start_time = time.time()\n",
    "p_df = pd.read_csv('HAM10000_metadata.csv')\n",
    "end_time = time.time()\n",
    "print(f\"Pandas: {end_time - start_time} seconds\")"
   ]
  },
  {
   "cell_type": "code",
   "execution_count": 108,
   "id": "b9ed9b71-3439-4263-baed-f1d42cceaf9a",
   "metadata": {},
   "outputs": [
    {
     "name": "stdout",
     "output_type": "stream",
     "text": [
      "Dask: 0.0008199214935302734 seconds\n"
     ]
    }
   ],
   "source": [
    "start_time = time.time()\n",
    "d_df = dd.read_csv('HAM10000_metadata.csv')\n",
    "end_time = time.time()\n",
    "\n",
    "print(f\"Dask: {end_time - start_time} seconds\")"
   ]
  },
  {
   "cell_type": "markdown",
   "id": "4a11d597-816b-4344-975f-6be336e61638",
   "metadata": {},
   "source": [
    "Here Dask is performing better pandas."
   ]
  },
  {
   "cell_type": "code",
   "execution_count": 122,
   "id": "9d018ee4-c177-4ffe-b6dc-47d5089d9481",
   "metadata": {},
   "outputs": [],
   "source": [
    "def clean_column_names(df):\n",
    "    df.columns = df.columns.str.replace('[^A-Za-z0-9]+', '_').str.strip().str.lower()\n",
    "    return df\n",
    "\n",
    "# Clean column names for each dataframe\n",
    "p_df = clean_column_names(p_df)\n",
    "d_df.columns = clean_column_names(d_df).columns"
   ]
  },
  {
   "cell_type": "code",
   "execution_count": 128,
   "id": "3530dbaf-e43f-4ff5-b4a5-08f2f1f884df",
   "metadata": {},
   "outputs": [],
   "source": [
    "schema = {\n",
    "    'separator': ',',\n",
    "    'columns': list(d_df.columns)\n",
    "}\n",
    "\n",
    "with open('schema.yaml', 'w') as file:\n",
    "    yaml.dump(schema, file)\n"
   ]
  },
  {
   "cell_type": "code",
   "execution_count": 132,
   "id": "48f7a6f2-38f4-43b3-b6e3-812ac770aacd",
   "metadata": {},
   "outputs": [],
   "source": [
    "with open('schema.yaml', 'r') as file:\n",
    "    loaded_schema = yaml.safe_load(file)\n",
    "\n",
    "assert len(d_df.columns) == len(loaded_schema['columns']), \"Column count mismatch\"\n",
    "assert all([a == b for a, b in zip(d_df.columns, loaded_schema['columns'])]), \"Column names mismatch\"\n"
   ]
  },
  {
   "cell_type": "code",
   "execution_count": 136,
   "id": "73859ced-a3ba-48c8-ba04-dee6895b0b61",
   "metadata": {},
   "outputs": [
    {
     "name": "stdout",
     "output_type": "stream",
     "text": [
      "{'separator': ',', 'columns': ['lesion_id', 'image_id', 'dx', 'dx_type', 'age', 'sex', 'localization']}\n"
     ]
    }
   ],
   "source": [
    "import gzip\n",
    "\n",
    "# Print the schema to understand its structure\n",
    "print(schema)\n",
    "\n",
    "# Adjust according to the actual structure\n",
    "# Assuming you need to access a key directly or handle missing keys\n",
    "output_separator = schema.get('output_separator', '|')  # Use a default separator if the key is not found\n",
    "output_file_path = \"processed_skin_cancer_dataset.txt.gz\"\n",
    "\n",
    "# Write the processed file in pipe-separated format and compress with gzip\n",
    "with gzip.open(output_file_path, 'wt') as f:\n",
    "    df.to_csv(f, sep=output_separator, index=False)\n"
   ]
  },
  {
   "cell_type": "code",
   "execution_count": 140,
   "id": "aba5a0d0-735f-45fd-8315-c69ceb681954",
   "metadata": {},
   "outputs": [
    {
     "name": "stdout",
     "output_type": "stream",
     "text": [
      "Summary of the processed file:\n",
      "Total Rows: 10015\n",
      "Total Columns: 7\n",
      "File Size: 77387 bytes\n"
     ]
    }
   ],
   "source": [
    "import os\n",
    "\n",
    "# Create a summary\n",
    "summary = {\n",
    "    'total_rows': len(d_df),\n",
    "    'total_columns': len(d_df.columns),\n",
    "    'file_size': os.path.getsize(output_file_path)\n",
    "}\n",
    "\n",
    "# Print the summary\n",
    "print(\"Summary of the processed file:\")\n",
    "print(f\"Total Rows: {summary['total_rows']}\")\n",
    "print(f\"Total Columns: {summary['total_columns']}\")\n",
    "print(f\"File Size: {summary['file_size']} bytes\")\n"
   ]
  },
  {
   "cell_type": "code",
   "execution_count": null,
   "id": "c0e714cb-33d1-40d0-a686-28ba0d7742f9",
   "metadata": {},
   "outputs": [],
   "source": []
  }
 ],
 "metadata": {
  "kernelspec": {
   "display_name": "Python 3 (ipykernel)",
   "language": "python",
   "name": "python3"
  },
  "language_info": {
   "codemirror_mode": {
    "name": "ipython",
    "version": 3
   },
   "file_extension": ".py",
   "mimetype": "text/x-python",
   "name": "python",
   "nbconvert_exporter": "python",
   "pygments_lexer": "ipython3",
   "version": "3.12.4"
  }
 },
 "nbformat": 4,
 "nbformat_minor": 5
}
